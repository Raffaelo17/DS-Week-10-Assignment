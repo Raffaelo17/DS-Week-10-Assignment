{
  "nbformat": 4,
  "nbformat_minor": 0,
  "metadata": {
    "colab": {
      "provenance": []
    },
    "kernelspec": {
      "name": "python3",
      "display_name": "Python 3"
    },
    "language_info": {
      "name": "python"
    }
  },
  "cells": [
    {
      "cell_type": "code",
      "execution_count": null,
      "metadata": {
        "id": "rgm8lJdu02FI"
      },
      "outputs": [],
      "source": [
        "import pandas as pd\n",
        "from math import sqrt\n",
        "import numpy as np"
      ]
    },
    {
      "cell_type": "code",
      "source": [
        "movies_df = pd.read_csv('/content/sample_data/movies.csv')\n",
        "ratings_df = pd.read_csv('/content/sample_data/ratings.csv')\n",
        "print(movies_df.info())\n"
      ],
      "metadata": {
        "colab": {
          "base_uri": "https://localhost:8080/"
        },
        "id": "FHhzN8x51MxL",
        "outputId": "518ec25e-1afc-46d5-b6ae-b98c45e05e5e"
      },
      "execution_count": null,
      "outputs": [
        {
          "output_type": "stream",
          "name": "stdout",
          "text": [
            "<class 'pandas.core.frame.DataFrame'>\n",
            "RangeIndex: 62423 entries, 0 to 62422\n",
            "Data columns (total 3 columns):\n",
            " #   Column   Non-Null Count  Dtype \n",
            "---  ------   --------------  ----- \n",
            " 0   movieId  62423 non-null  int64 \n",
            " 1   title    62423 non-null  object\n",
            " 2   genres   62423 non-null  object\n",
            "dtypes: int64(1), object(2)\n",
            "memory usage: 1.4+ MB\n",
            "None\n"
          ]
        }
      ]
    },
    {
      "cell_type": "code",
      "source": [
        "userInput = [{'title':'Four Musketeers, The (1974)', 'rating':4},\n",
        "             {'title':'xXx: Return of Xander Cage (2017)', 'rating':3.5},\n",
        "             {'title':'The Lego Batman Movie (2017)', 'rating':4},\n",
        "             {'title':'Superman/Shazam!: The Return of Black Adam (2010)', 'rating':3},\n",
        "             {'title':'Piku (2015)', 'rating':4.5}]\n",
        "inputMovies = pd.DataFrame(userInput)\n",
        "print(inputMovies)"
      ],
      "metadata": {
        "colab": {
          "base_uri": "https://localhost:8080/"
        },
        "id": "oahtLMD1-PHW",
        "outputId": "a9fab5d9-2a44-492e-84f5-613529d66f39"
      },
      "execution_count": null,
      "outputs": [
        {
          "output_type": "stream",
          "name": "stdout",
          "text": [
            "                                               title  rating\n",
            "0                        Four Musketeers, The (1974)     4.0\n",
            "1                  xXx: Return of Xander Cage (2017)     3.5\n",
            "2                       The Lego Batman Movie (2017)     4.0\n",
            "3  Superman/Shazam!: The Return of Black Adam (2010)     3.0\n",
            "4                                        Piku (2015)     4.5\n"
          ]
        }
      ]
    },
    {
      "cell_type": "code",
      "source": [
        "inputId = movies_df[movies_df['title'].isin(inputMovies['title'].tolist())]\n",
        "inputMovies = pd.merge(inputId, inputMovies)\n",
        "inputMovies = inputMovies[['movieId','title','rating']]\n",
        "print(inputMovies)"
      ],
      "metadata": {
        "colab": {
          "base_uri": "https://localhost:8080/"
        },
        "id": "MrLsA4G-3tOJ",
        "outputId": "cd97b1ea-bff2-4d1e-dda0-a0258b33843b"
      },
      "execution_count": null,
      "outputs": [
        {
          "output_type": "stream",
          "name": "stdout",
          "text": [
            "   movieId                                              title  rating\n",
            "0     7720                        Four Musketeers, The (1974)     4.0\n",
            "1   133389                                        Piku (2015)     4.5\n",
            "2   167738                  xXx: Return of Xander Cage (2017)     3.5\n",
            "3   167746                       The Lego Batman Movie (2017)     4.0\n",
            "4   167780  Superman/Shazam!: The Return of Black Adam (2010)     3.0\n"
          ]
        }
      ]
    },
    {
      "cell_type": "code",
      "source": [
        "userSubset = ratings_df[ratings_df['movieId'].isin(inputMovies['movieId'].tolist())]\n",
        "print(userSubset.groupby('movieId').count())"
      ],
      "metadata": {
        "colab": {
          "base_uri": "https://localhost:8080/"
        },
        "id": "9FONI2by5sQX",
        "outputId": "03837bc7-46e7-4c37-950b-8f0446cc54e2"
      },
      "execution_count": null,
      "outputs": [
        {
          "output_type": "stream",
          "name": "stdout",
          "text": [
            "         userId  rating  timestamp\n",
            "movieId                           \n",
            "7720         31      31         31\n",
            "133389        3       3          3\n",
            "167738       18      18         18\n",
            "167746       63      63         63\n"
          ]
        }
      ]
    },
    {
      "cell_type": "code",
      "source": [
        "#Groupby creates several sub dataframes where they all have the same value in the column specified as the parameter\n",
        "userSubsetGroup = userSubset.groupby(['userId'])\n",
        "\n",
        "def take_5_elem(x):\n",
        "    # print (len(x[1]))\n",
        "    return len(x[1])\n",
        "\n",
        "\n",
        "#Sorting it so users with movie most in common with the input will have priority\n",
        "userSubsetGroup = sorted(userSubsetGroup, key=take_5_elem, reverse=True)\n",
        "\n",
        "userSubsetGroup = userSubsetGroup[0:100]\n",
        "print(userSubsetGroup[0:5])"
      ],
      "metadata": {
        "colab": {
          "base_uri": "https://localhost:8080/"
        },
        "id": "G1BeCkJw8igR",
        "outputId": "d028c818-0be6-4784-a3f0-23b82987628f"
      },
      "execution_count": null,
      "outputs": [
        {
          "output_type": "stream",
          "name": "stdout",
          "text": [
            "[(2084,         userId  movieId  rating     timestamp\n",
            "302307    2084   167738     4.5  1.520946e+09\n",
            "302308    2084   167746     4.5  1.499713e+09), (2403,         userId  movieId  rating     timestamp\n",
            "347851    2403   167738     3.5  1.513371e+09\n",
            "347852    2403   167746     3.5  1.513372e+09), (3180,         userId  movieId  rating     timestamp\n",
            "465041    3180   167738     2.5  1.490856e+09\n",
            "465043    3180   167746     3.5  1.486763e+09), (4019,         userId  movieId  rating     timestamp\n",
            "590495    4019   133389     3.5  1.547325e+09\n",
            "590825    4019   167746     2.5  1.547325e+09), (4688,         userId  movieId  rating     timestamp\n",
            "687923    4688   167738     3.0  1.484988e+09\n",
            "687924    4688   167746     5.0  1.487032e+09)]\n"
          ]
        },
        {
          "output_type": "stream",
          "name": "stderr",
          "text": [
            "<ipython-input-37-af8a4a42e498>:10: FutureWarning: In a future version of pandas, a length 1 tuple will be returned when iterating over a groupby with a grouper equal to a list of length 1. Don't supply a list with a single grouper to avoid this warning.\n",
            "  userSubsetGroup = sorted(userSubsetGroup, key=take_5_elem, reverse=True)\n"
          ]
        }
      ]
    },
    {
      "cell_type": "code",
      "source": [
        "#Store the Pearson Correlation in a dictionary, where the key is the user Id and the value is the coefficient\n",
        "pearsonCorrelationDict = {}\n",
        "\n",
        "#For every user group in our subset\n",
        "for name, group in userSubsetGroup:\n",
        "\n",
        "    #Let's start by sorting the input and current user group so the values aren't mixed up later on\n",
        "    group = group.sort_values(by='movieId')\n",
        "    inputMovies = inputMovies.sort_values(by='movieId')\n",
        "\n",
        "    #Get the N for the formula\n",
        "    nRatings = len(group)\n",
        "\n",
        "    #Get the review scores for the movies that they both have in common\n",
        "    temp_df = inputMovies[inputMovies['movieId'].isin(group['movieId'].tolist())]\n",
        "\n",
        "    #And then store them in a temporary buffer variable in a list format to facilitate future calculations\n",
        "    tempRatingList = temp_df['rating'].tolist()\n",
        "\n",
        "    #Let's also put the current user group reviews in a list format\n",
        "    tempGroupList = group['rating'].tolist()\n",
        "\n",
        "\n",
        "    #Now let's calculate the pearson correlation between two users, so called, x and y manually (check the formula from week 7 slide)\n",
        "    Sxx = sum([i**2 for i in tempRatingList]) - pow(sum(tempRatingList),2)/float(nRatings)\n",
        "    Syy = sum([i**2 for i in tempGroupList]) - pow(sum(tempGroupList),2)/float(nRatings)\n",
        "    Sxy = sum( i*j for i, j in zip(tempRatingList, tempGroupList)) - sum(tempRatingList)*sum(tempGroupList)/float(nRatings)\n",
        "\n",
        "    #If the denominator is different than zero, then divide, else, 0 correlation.\n",
        "    if Sxx != 0 and Syy != 0:\n",
        "        pearsonCorrelationDict[name] = Sxy/sqrt(Sxx*Syy)\n",
        "    else:\n",
        "        pearsonCorrelationDict[name] = 0"
      ],
      "metadata": {
        "id": "K2cw-4pm8mt-"
      },
      "execution_count": null,
      "outputs": []
    },
    {
      "cell_type": "code",
      "source": [
        "pearsonDF = pd.DataFrame.from_dict(pearsonCorrelationDict, orient='index')\n",
        "pearsonDF.columns = ['similarityIndex']\n",
        "pearsonDF['userId'] = pearsonDF.index\n",
        "pearsonDF.index = range(len(pearsonDF))\n",
        "print(pearsonDF.head())"
      ],
      "metadata": {
        "colab": {
          "base_uri": "https://localhost:8080/"
        },
        "id": "jo9CZJid8pzC",
        "outputId": "86bf567f-0e78-4170-8603-03b9590f71f8"
      },
      "execution_count": null,
      "outputs": [
        {
          "output_type": "stream",
          "name": "stdout",
          "text": [
            "   similarityIndex  userId\n",
            "0              0.0    2084\n",
            "1              0.0    2403\n",
            "2              1.0    3180\n",
            "3              1.0    4019\n",
            "4              1.0    4688\n"
          ]
        }
      ]
    },
    {
      "cell_type": "code",
      "source": [
        "topUsers=pearsonDF.sort_values(by='similarityIndex', ascending=False)[0:50]\n",
        "print(topUsers.head())"
      ],
      "metadata": {
        "colab": {
          "base_uri": "https://localhost:8080/"
        },
        "id": "sQjlfs178sDI",
        "outputId": "3ad50df9-f147-49e2-e769-f2a5cad50500"
      },
      "execution_count": null,
      "outputs": [
        {
          "output_type": "stream",
          "name": "stdout",
          "text": [
            "    similarityIndex  userId\n",
            "2               1.0    3180\n",
            "3               1.0    4019\n",
            "4               1.0    4688\n",
            "0               0.0    2084\n",
            "64              0.0    4481\n"
          ]
        }
      ]
    },
    {
      "cell_type": "code",
      "source": [
        "topUsersRating=topUsers.merge(ratings_df, left_on='userId', right_on='userId', how='inner')\n",
        "print(topUsersRating.head(100))"
      ],
      "metadata": {
        "colab": {
          "base_uri": "https://localhost:8080/"
        },
        "id": "8br4ktlf8uND",
        "outputId": "50b5ff57-30ce-4506-cae5-dcc174952c99"
      },
      "execution_count": null,
      "outputs": [
        {
          "output_type": "stream",
          "name": "stdout",
          "text": [
            "    similarityIndex  userId  movieId  rating     timestamp\n",
            "0               1.0    3180        1     4.0  1.471811e+09\n",
            "1               1.0    3180        2     2.5  1.484512e+09\n",
            "2               1.0    3180       10     2.0  1.471813e+09\n",
            "3               1.0    3180       13     2.5  1.471958e+09\n",
            "4               1.0    3180       15     1.0  1.505795e+09\n",
            "..              ...     ...      ...     ...           ...\n",
            "95              1.0    3180     1203     5.0  1.471811e+09\n",
            "96              1.0    3180     1206     5.0  1.471813e+09\n",
            "97              1.0    3180     1207     4.5  1.471812e+09\n",
            "98              1.0    3180     1210     3.0  1.483028e+09\n",
            "99              1.0    3180     1214     5.0  1.471811e+09\n",
            "\n",
            "[100 rows x 5 columns]\n"
          ]
        }
      ]
    },
    {
      "cell_type": "code",
      "source": [
        "#Multiplies the similarity by the user’s ratings\n",
        "topUsersRating['weightedRating'] = topUsersRating['similarityIndex']*topUsersRating['rating']\n",
        "print(topUsersRating.head())"
      ],
      "metadata": {
        "colab": {
          "base_uri": "https://localhost:8080/"
        },
        "id": "9XQEXkKK8wvk",
        "outputId": "d24f3f91-27e9-4955-d528-01367bff7bf6"
      },
      "execution_count": null,
      "outputs": [
        {
          "output_type": "stream",
          "name": "stdout",
          "text": [
            "   similarityIndex  userId  movieId  rating     timestamp  weightedRating\n",
            "0              1.0    3180        1     4.0  1.471811e+09             4.0\n",
            "1              1.0    3180        2     2.5  1.484512e+09             2.5\n",
            "2              1.0    3180       10     2.0  1.471813e+09             2.0\n",
            "3              1.0    3180       13     2.5  1.471958e+09             2.5\n",
            "4              1.0    3180       15     1.0  1.505795e+09             1.0\n"
          ]
        }
      ]
    },
    {
      "cell_type": "code",
      "source": [
        "#Applies a sum to the topUsers after grouping it up by movieId\n",
        "tempTopUsersRating = topUsersRating.groupby('movieId').sum()[['similarityIndex','weightedRating']]\n",
        "tempTopUsersRating.columns = ['sum_similarityIndex','sum_weightedRating']\n",
        "print(tempTopUsersRating.head())"
      ],
      "metadata": {
        "colab": {
          "base_uri": "https://localhost:8080/"
        },
        "id": "Yy_jonkv8zUI",
        "outputId": "4aa23175-766a-4e2f-ca8d-4a83e0b9d00b"
      },
      "execution_count": null,
      "outputs": [
        {
          "output_type": "stream",
          "name": "stdout",
          "text": [
            "         sum_similarityIndex  sum_weightedRating\n",
            "movieId                                         \n",
            "1                        2.0                 8.0\n",
            "2                        2.0                 6.0\n",
            "3                        0.0                 0.0\n",
            "5                        0.0                 0.0\n",
            "6                        1.0                 4.0\n"
          ]
        }
      ]
    },
    {
      "cell_type": "code",
      "source": [
        "#Creates an empty dataframe\n",
        "recommendation_df = pd.DataFrame()\n",
        "\n",
        "#Now we take the weighted average\n",
        "recommendation_df['weighted average recommendation score'] = tempTopUsersRating['sum_weightedRating']/tempTopUsersRating['sum_similarityIndex']\n",
        "recommendation_df['movieId'] = tempTopUsersRating.index\n",
        "print(recommendation_df.head(10))"
      ],
      "metadata": {
        "colab": {
          "base_uri": "https://localhost:8080/"
        },
        "id": "bs-naJvM81uP",
        "outputId": "4f80180e-8a7a-4981-cdb4-4d000812197d"
      },
      "execution_count": null,
      "outputs": [
        {
          "output_type": "stream",
          "name": "stdout",
          "text": [
            "         weighted average recommendation score  movieId\n",
            "movieId                                                \n",
            "1                                         4.00        1\n",
            "2                                         3.00        2\n",
            "3                                          NaN        3\n",
            "5                                          NaN        5\n",
            "6                                         4.00        6\n",
            "7                                          NaN        7\n",
            "10                                        2.75       10\n",
            "11                                         NaN       11\n",
            "12                                         NaN       12\n",
            "13                                        2.50       13\n"
          ]
        }
      ]
    },
    {
      "cell_type": "code",
      "source": [
        "recommendation_df = recommendation_df.sort_values(by='weighted average recommendation score', ascending=False)\n",
        "print(recommendation_df)"
      ],
      "metadata": {
        "colab": {
          "base_uri": "https://localhost:8080/"
        },
        "id": "lKwLDgAO84TU",
        "outputId": "42b1d55e-1dbe-4c53-87a9-e6a5a8504ca6"
      },
      "execution_count": null,
      "outputs": [
        {
          "output_type": "stream",
          "name": "stdout",
          "text": [
            "         weighted average recommendation score  movieId\n",
            "movieId                                                \n",
            "106782                                     5.0   106782\n",
            "1345                                       5.0     1345\n",
            "34542                                      5.0    34542\n",
            "134849                                     5.0   134849\n",
            "733                                        5.0      733\n",
            "...                                        ...      ...\n",
            "206899                                     NaN   206899\n",
            "207311                                     NaN   207311\n",
            "207367                                     NaN   207367\n",
            "207405                                     NaN   207405\n",
            "207830                                     NaN   207830\n",
            "\n",
            "[10309 rows x 2 columns]\n"
          ]
        }
      ]
    },
    {
      "cell_type": "code",
      "source": [
        "recommended_movie=movies_df.loc[movies_df['movieId'].isin(recommendation_df['movieId'])]\n",
        "\n",
        "#we don't want to recommend the same movie\n",
        "recommended_movie=recommended_movie.loc[~recommended_movie.movieId.isin(userSubset['movieId'])]\n",
        "\n",
        "print(recommended_movie)"
      ],
      "metadata": {
        "colab": {
          "base_uri": "https://localhost:8080/"
        },
        "id": "2uW-1Qzw86Zr",
        "outputId": "9eb91400-259e-4e03-aa1b-5f83a3df9541"
      },
      "execution_count": null,
      "outputs": [
        {
          "output_type": "stream",
          "name": "stdout",
          "text": [
            "       movieId                               title  \\\n",
            "0            1                    Toy Story (1995)   \n",
            "1            2                      Jumanji (1995)   \n",
            "2            3             Grumpier Old Men (1995)   \n",
            "4            5  Father of the Bride Part II (1995)   \n",
            "5            6                         Heat (1995)   \n",
            "...        ...                                 ...   \n",
            "61790   206899             Charlie's Angels (2019)   \n",
            "61936   207311               Last Christmas (2019)   \n",
            "61960   207367              Little Monsters (2019)   \n",
            "61967   207405                 Doctor Sleep (2019)   \n",
            "62088   207830        Terminator: Dark Fate (2019)   \n",
            "\n",
            "                                            genres  \n",
            "0      Adventure|Animation|Children|Comedy|Fantasy  \n",
            "1                       Adventure|Children|Fantasy  \n",
            "2                                   Comedy|Romance  \n",
            "4                                           Comedy  \n",
            "5                            Action|Crime|Thriller  \n",
            "...                                            ...  \n",
            "61790                      Action|Adventure|Comedy  \n",
            "61936                               Comedy|Romance  \n",
            "61960                                Comedy|Horror  \n",
            "61967                                       Horror  \n",
            "62088                                Action|Sci-Fi  \n",
            "\n",
            "[10305 rows x 3 columns]\n"
          ]
        }
      ]
    }
  ]
}